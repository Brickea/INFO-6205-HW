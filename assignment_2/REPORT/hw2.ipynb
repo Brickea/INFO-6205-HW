{
 "cells": [
  {
   "cell_type": "markdown",
   "metadata": {},
   "source": [
    "<div style=\"text-align:right;\">INFO 6210 Assignment 2</div>\n",
    "<div style=\"text-align:right;\">Insertion Sort</div>\n",
    "<div style=\"text-align:right;\">20200926 Zixiao Wang</div>"
   ]
  },
  {
   "cell_type": "code",
   "execution_count": 44,
   "metadata": {},
   "outputs": [],
   "source": [
    "from matplotlib import pyplot as plt\n",
    "import numpy as np\n",
    "import pandas as pd\n",
    "%matplotlib inline"
   ]
  },
  {
   "cell_type": "code",
   "execution_count": 49,
   "metadata": {},
   "outputs": [
    {
     "data": {
      "text/html": [
       "<div>\n",
       "<style scoped>\n",
       "    .dataframe tbody tr th:only-of-type {\n",
       "        vertical-align: middle;\n",
       "    }\n",
       "\n",
       "    .dataframe tbody tr th {\n",
       "        vertical-align: top;\n",
       "    }\n",
       "\n",
       "    .dataframe thead th {\n",
       "        text-align: right;\n",
       "    }\n",
       "</style>\n",
       "<table border=\"1\" class=\"dataframe\">\n",
       "  <thead>\n",
       "    <tr style=\"text-align: right;\">\n",
       "      <th></th>\n",
       "      <th>Random List</th>\n",
       "      <th>Ordered List</th>\n",
       "      <th>Partially Ordered List</th>\n",
       "      <th>Reversed List</th>\n",
       "      <th>Unnamed: 4</th>\n",
       "    </tr>\n",
       "  </thead>\n",
       "  <tbody>\n",
       "    <tr>\n",
       "      <th>0</th>\n",
       "      <td>0.070771</td>\n",
       "      <td>0.002480</td>\n",
       "      <td>0.004257</td>\n",
       "      <td>0.017386</td>\n",
       "      <td>NaN</td>\n",
       "    </tr>\n",
       "    <tr>\n",
       "      <th>1</th>\n",
       "      <td>0.033226</td>\n",
       "      <td>0.003380</td>\n",
       "      <td>0.017480</td>\n",
       "      <td>0.084919</td>\n",
       "      <td>NaN</td>\n",
       "    </tr>\n",
       "    <tr>\n",
       "      <th>2</th>\n",
       "      <td>0.171884</td>\n",
       "      <td>0.003144</td>\n",
       "      <td>0.058448</td>\n",
       "      <td>0.324378</td>\n",
       "      <td>NaN</td>\n",
       "    </tr>\n",
       "    <tr>\n",
       "      <th>3</th>\n",
       "      <td>0.504656</td>\n",
       "      <td>0.007494</td>\n",
       "      <td>0.176718</td>\n",
       "      <td>1.020783</td>\n",
       "      <td>NaN</td>\n",
       "    </tr>\n",
       "    <tr>\n",
       "      <th>4</th>\n",
       "      <td>2.335628</td>\n",
       "      <td>0.010398</td>\n",
       "      <td>0.867199</td>\n",
       "      <td>3.837909</td>\n",
       "      <td>NaN</td>\n",
       "    </tr>\n",
       "  </tbody>\n",
       "</table>\n",
       "</div>"
      ],
      "text/plain": [
       "   Random List  Ordered List  Partially Ordered List  Reversed List  \\\n",
       "0     0.070771      0.002480                0.004257       0.017386   \n",
       "1     0.033226      0.003380                0.017480       0.084919   \n",
       "2     0.171884      0.003144                0.058448       0.324378   \n",
       "3     0.504656      0.007494                0.176718       1.020783   \n",
       "4     2.335628      0.010398                0.867199       3.837909   \n",
       "\n",
       "   Unnamed: 4  \n",
       "0         NaN  \n",
       "1         NaN  \n",
       "2         NaN  \n",
       "3         NaN  \n",
       "4         NaN  "
      ]
     },
     "execution_count": 49,
     "metadata": {},
     "output_type": "execute_result"
    }
   ],
   "source": [
    "cost = pd.read_csv(\"./hw2.csv\")\n",
    "cost"
   ]
  },
  {
   "cell_type": "code",
   "execution_count": 46,
   "metadata": {},
   "outputs": [
    {
     "data": {
      "text/plain": [
       "array([ 100.,  200.,  400.,  800., 1600.])"
      ]
     },
     "execution_count": 46,
     "metadata": {},
     "output_type": "execute_result"
    }
   ],
   "source": [
    "x = np.logspace(0,4,5,base=2)*100\n",
    "x"
   ]
  },
  {
   "cell_type": "code",
   "execution_count": 48,
   "metadata": {},
   "outputs": [
    {
     "data": {
      "text/plain": [
       "<matplotlib.legend.Legend at 0x2401b187588>"
      ]
     },
     "execution_count": 48,
     "metadata": {},
     "output_type": "execute_result"
    },
    {
     "data": {
      "image/png": "[encoded data removed]",
      "text/plain": [
       "<Figure size 432x288 with 1 Axes>"
      ]
     },
     "metadata": {
      "needs_background": "light"
     },
     "output_type": "display_data"
    }
   ],
   "source": [
    "plt.plot(x,cost[\"Random List\"],label=\"Random List\")\n",
    "plt.plot(x,cost[\"Ordered List\"],label=\"Ordered List\")\n",
    "plt.plot(x,cost[\"Partially Ordered List\"],label=\"Partially Ordered List\")\n",
    "plt.plot(x,cost[\"Reversed List\"],label=\"Reversed List\")\n",
    "plt.xlabel(\"The elements number of list n\")\n",
    "plt.ylabel(\"The sort time cost MS\")\n",
    "\n",
    "plt.legend()"
   ]
  },
  {
   "cell_type": "code",
   "execution_count": null,
   "metadata": {},
   "outputs": [],
   "source": []
  }
 ],
 "metadata": {
  "kernelspec": {
   "display_name": "Python 3",
   "language": "python",
   "name": "python3"
  },
  "language_info": {
   "codemirror_mode": {
    "name": "ipython",
    "version": 3
   },
   "file_extension": ".py",
   "mimetype": "text/x-python",
   "name": "python",
   "nbconvert_exporter": "python",
   "pygments_lexer": "ipython3",
   "version": "3.7.3"
  }
 },
 "nbformat": 4,
 "nbformat_minor": 4
}
